Cell 1: Imports

import numpy as np
import pandas as pd
from sklearn.datasets import load_diabetes
from sklearn.preprocessing import StandardScaler
from sklearn.cluster import KMeans
from sklearn.decomposition import PCA
from sklearn.metrics import silhouette_score
import matplotlib.pyplot as plt
import seaborn as sns

sns.set(style="whitegrid")

Cell 2: Load and Inspect Data

# Load diabetes dataset
data = load_diabetes()
X = pd.DataFrame(data.data, columns=data.feature_names)

# Preview data
X.head()

Cell 3: Preprocessing – Scaling

# Scale the features
scaler = StandardScaler()
X_scaled = scaler.fit_transform(X)

# Check scaled shape
X_scaled.shape

Cell 4: K-Means Clustering

# Apply KMeans
kmeans = KMeans(n_clusters=3, init='k-means++', n_init=10, max_iter=300, random_state=42)
kmeans.fit(X_scaled)

# Add cluster labels
labels = kmeans.labels_

Cell 5: Evaluate with Silhouette Score

score = silhouette_score(X_scaled, labels)
print(f"Silhouette Score: {score:.3f}")

Cell 6: PCA for Visualization

# Reduce to 2D using PCA
pca = PCA(n_components=2)
X_pca = pca.fit_transform(X_scaled)

# Create DataFrame for plotting
df_plot = pd.DataFrame(X_pca, columns=['PCA1', 'PCA2'])
df_plot['Cluster'] = labels

Cell 7: Plot PCA Clusters

plt.figure(figsize=(8, 6))
sns.scatterplot(data=df_plot, x='PCA1', y='PCA2', hue='Cluster', palette='Set2', s=100)
plt.title('K-Means Clustering with PCA (2D)')
plt.xlabel('Principal Component 1')
plt.ylabel('Principal Component 2')
plt.legend(title='Cluster')
plt.tight_layout()
plt.show()


